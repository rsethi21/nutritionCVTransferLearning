{
  "nbformat": 4,
  "nbformat_minor": 0,
  "metadata": {
    "colab": {
      "provenance": [],
      "authorship_tag": "ABX9TyNeSPMvwV9V5RQsGGK5PZ+R"
    },
    "kernelspec": {
      "name": "python3",
      "display_name": "Python 3"
    },
    "language_info": {
      "name": "python"
    }
  },
  "cells": [
    {
      "cell_type": "code",
      "source": [
        "!pip3 install recipe-scrapers"
      ],
      "metadata": {
        "id": "uXUid85LueUX"
      },
      "execution_count": null,
      "outputs": []
    },
    {
      "cell_type": "code",
      "execution_count": 18,
      "metadata": {
        "id": "Xrp2qR_6uYdP"
      },
      "outputs": [],
      "source": [
        "from recipe_scrapers import scrape_me\n",
        "from recipe_scrapers import scrape_html\n",
        "import requests"
      ]
    },
    {
      "cell_type": "code",
      "source": [
        "url = 'https://www.allrecipes.com/recipe/14565/naan/'\n",
        "scraper = scrape_me(url)"
      ],
      "metadata": {
        "id": "MTIHwGvaukJq"
      },
      "execution_count": 7,
      "outputs": []
    },
    {
      "cell_type": "code",
      "source": [
        "# the poster photo\n",
        "name = scraper.title()\n",
        "image = scraper.image()\n",
        "img_data = requests.get(image).content\n",
        "with open(f'{name}.jpg', 'wb') as handler:\n",
        "    handler.write(img_data)"
      ],
      "metadata": {
        "id": "pdOgwT2KvEQK"
      },
      "execution_count": null,
      "outputs": []
    },
    {
      "cell_type": "code",
      "source": [
        "# could possibly parse html to gather more images\n",
        "html = requests.get(url).content"
      ],
      "metadata": {
        "id": "hUkBvisewucW"
      },
      "execution_count": null,
      "outputs": []
    }
  ]
}